{
 "cells": [
  {
   "cell_type": "markdown",
   "id": "ebab2057",
   "metadata": {},
   "source": [
    "Stack is a DS , last in first out - LIFO"
   ]
  },
  {
   "cell_type": "markdown",
   "id": "85682fb4",
   "metadata": {},
   "source": []
  }
 ],
 "metadata": {
  "language_info": {
   "name": "python"
  }
 },
 "nbformat": 4,
 "nbformat_minor": 5
}
